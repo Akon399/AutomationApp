{
 "cells": [
  {
   "cell_type": "markdown",
   "id": "44f1b251",
   "metadata": {},
   "source": [
    "# Risk Application Analysis & Visuals.\n",
    "\n",
    "- Proj Leader : Amra Begic.\n",
    "- Problem : Analysing Merchant data, graphically & installing frameworks on the Risk App.\n",
    "- Documentation & solution by Akhona Njeje."
   ]
  },
  {
   "cell_type": "code",
   "execution_count": 1,
   "id": "018ea29f",
   "metadata": {},
   "outputs": [],
   "source": [
    "import pandas as pd\n",
    "import numpy as np\n",
    "import seaborn as sns\n",
    "import matplotlib.pyplot as plt\n",
    "%matplotlib inline"
   ]
  },
  {
   "cell_type": "code",
   "execution_count": 2,
   "id": "839476ad",
   "metadata": {},
   "outputs": [
    {
     "data": {
      "text/html": [
       "<div>\n",
       "<style scoped>\n",
       "    .dataframe tbody tr th:only-of-type {\n",
       "        vertical-align: middle;\n",
       "    }\n",
       "\n",
       "    .dataframe tbody tr th {\n",
       "        vertical-align: top;\n",
       "    }\n",
       "\n",
       "    .dataframe thead th {\n",
       "        text-align: right;\n",
       "    }\n",
       "</style>\n",
       "<table border=\"1\" class=\"dataframe\">\n",
       "  <thead>\n",
       "    <tr style=\"text-align: right;\">\n",
       "      <th></th>\n",
       "      <th>Merchant</th>\n",
       "      <th>Terminal</th>\n",
       "      <th>Status</th>\n",
       "      <th>Type</th>\n",
       "      <th>Payment Type</th>\n",
       "      <th>Bank Code</th>\n",
       "      <th>Merchant Transaction id</th>\n",
       "      <th>Transaction id</th>\n",
       "      <th>Currency</th>\n",
       "      <th>Amount (with decimal mark per currency exponent)</th>\n",
       "      <th>...</th>\n",
       "      <th>Settlement Transaction Currency</th>\n",
       "      <th>ECI</th>\n",
       "      <th>Preauthorization</th>\n",
       "      <th>Captured</th>\n",
       "      <th>Transaction descriptor</th>\n",
       "      <th>IBAN / Account No</th>\n",
       "      <th>Customer name</th>\n",
       "      <th>Funds status</th>\n",
       "      <th>Date of funds status</th>\n",
       "      <th>Account holder</th>\n",
       "    </tr>\n",
       "  </thead>\n",
       "  <tbody>\n",
       "    <tr>\n",
       "      <th>0</th>\n",
       "      <td>Holvi Payment Services Oy - 7299</td>\n",
       "      <td>HolviPaymentServicesOy-7299-EUR-3D</td>\n",
       "      <td>error</td>\n",
       "      <td>sale3d</td>\n",
       "      <td>NaN</td>\n",
       "      <td>NaN</td>\n",
       "      <td>7001389954578-dcc0eb0104ad421ca77792c4daca091a</td>\n",
       "      <td>18226.0</td>\n",
       "      <td>EUR</td>\n",
       "      <td>40.0</td>\n",
       "      <td>...</td>\n",
       "      <td>NaN</td>\n",
       "      <td>7.0</td>\n",
       "      <td>NaN</td>\n",
       "      <td>NaN</td>\n",
       "      <td>Viskikerho WhisKY ry stm0T5 FIN</td>\n",
       "      <td>NaN</td>\n",
       "      <td>Marko Stevanovic</td>\n",
       "      <td>NaN</td>\n",
       "      <td>NaN</td>\n",
       "      <td>NaN</td>\n",
       "    </tr>\n",
       "    <tr>\n",
       "      <th>1</th>\n",
       "      <td>Holvi Payment Services Oy - 7333</td>\n",
       "      <td>HolviPaymentServicesOy-7333-EUR-3D</td>\n",
       "      <td>approved</td>\n",
       "      <td>sale3d</td>\n",
       "      <td>NaN</td>\n",
       "      <td>NaN</td>\n",
       "      <td>7001389980869-1e093e1302ed492598e27db8926b68fc</td>\n",
       "      <td>5035.0</td>\n",
       "      <td>EUR</td>\n",
       "      <td>180.0</td>\n",
       "      <td>...</td>\n",
       "      <td>NaN</td>\n",
       "      <td>5.0</td>\n",
       "      <td>NaN</td>\n",
       "      <td>NaN</td>\n",
       "      <td>AT Sinkkonen MCRmlQ FIN</td>\n",
       "      <td>NaN</td>\n",
       "      <td>Harri Mäkelä</td>\n",
       "      <td>NaN</td>\n",
       "      <td>NaN</td>\n",
       "      <td>NaN</td>\n",
       "    </tr>\n",
       "    <tr>\n",
       "      <th>2</th>\n",
       "      <td>Holvi Payment Services Oy - 7299</td>\n",
       "      <td>HolviPaymentServicesOy-7299-EUR-3D</td>\n",
       "      <td>approved</td>\n",
       "      <td>sale3d</td>\n",
       "      <td>NaN</td>\n",
       "      <td>NaN</td>\n",
       "      <td>7001390046103-34e7a9d6f856402b8d7961cf73832057</td>\n",
       "      <td>18228.0</td>\n",
       "      <td>EUR</td>\n",
       "      <td>25.0</td>\n",
       "      <td>...</td>\n",
       "      <td>NaN</td>\n",
       "      <td>2.0</td>\n",
       "      <td>NaN</td>\n",
       "      <td>NaN</td>\n",
       "      <td>Curly Horses Finland ry xv9Nvk FIN</td>\n",
       "      <td>NaN</td>\n",
       "      <td>Marcel Erkko</td>\n",
       "      <td>NaN</td>\n",
       "      <td>NaN</td>\n",
       "      <td>NaN</td>\n",
       "    </tr>\n",
       "    <tr>\n",
       "      <th>3</th>\n",
       "      <td>Holvi Payment Services Oy - 8299</td>\n",
       "      <td>HolviPaymentServicesOy-8299-EUR-3D</td>\n",
       "      <td>approved</td>\n",
       "      <td>sale3d</td>\n",
       "      <td>NaN</td>\n",
       "      <td>NaN</td>\n",
       "      <td>7001390118840-73b4f11ff5864a8b890056e6da492aca</td>\n",
       "      <td>14740.0</td>\n",
       "      <td>EUR</td>\n",
       "      <td>147.0</td>\n",
       "      <td>...</td>\n",
       "      <td>NaN</td>\n",
       "      <td>2.0</td>\n",
       "      <td>NaN</td>\n",
       "      <td>NaN</td>\n",
       "      <td>LifeInspiration 6CzDSk FIN</td>\n",
       "      <td>NaN</td>\n",
       "      <td>Riika Riika</td>\n",
       "      <td>NaN</td>\n",
       "      <td>NaN</td>\n",
       "      <td>NaN</td>\n",
       "    </tr>\n",
       "    <tr>\n",
       "      <th>4</th>\n",
       "      <td>Holvi Payment Services Oy - 8699</td>\n",
       "      <td>HolviPaymentServicesOy-8699-EUR-3D</td>\n",
       "      <td>approved</td>\n",
       "      <td>sale3d</td>\n",
       "      <td>NaN</td>\n",
       "      <td>NaN</td>\n",
       "      <td>7001390140737-6707c68f51274785834f41893c2aa0d8</td>\n",
       "      <td>27445.0</td>\n",
       "      <td>EUR</td>\n",
       "      <td>10.0</td>\n",
       "      <td>...</td>\n",
       "      <td>NaN</td>\n",
       "      <td>2.0</td>\n",
       "      <td>NaN</td>\n",
       "      <td>NaN</td>\n",
       "      <td>Linnanmaen sirkuskoulu QZjBXR FIN</td>\n",
       "      <td>NaN</td>\n",
       "      <td>Ante Pettersson</td>\n",
       "      <td>NaN</td>\n",
       "      <td>NaN</td>\n",
       "      <td>NaN</td>\n",
       "    </tr>\n",
       "  </tbody>\n",
       "</table>\n",
       "<p>5 rows × 42 columns</p>\n",
       "</div>"
      ],
      "text/plain": [
       "                           Merchant                            Terminal  \\\n",
       "0  Holvi Payment Services Oy - 7299  HolviPaymentServicesOy-7299-EUR-3D   \n",
       "1  Holvi Payment Services Oy - 7333  HolviPaymentServicesOy-7333-EUR-3D   \n",
       "2  Holvi Payment Services Oy - 7299  HolviPaymentServicesOy-7299-EUR-3D   \n",
       "3  Holvi Payment Services Oy - 8299  HolviPaymentServicesOy-8299-EUR-3D   \n",
       "4  Holvi Payment Services Oy - 8699  HolviPaymentServicesOy-8699-EUR-3D   \n",
       "\n",
       "     Status    Type  Payment Type  Bank Code  \\\n",
       "0     error  sale3d           NaN        NaN   \n",
       "1  approved  sale3d           NaN        NaN   \n",
       "2  approved  sale3d           NaN        NaN   \n",
       "3  approved  sale3d           NaN        NaN   \n",
       "4  approved  sale3d           NaN        NaN   \n",
       "\n",
       "                          Merchant Transaction id  Transaction id Currency  \\\n",
       "0  7001389954578-dcc0eb0104ad421ca77792c4daca091a         18226.0      EUR   \n",
       "1  7001389980869-1e093e1302ed492598e27db8926b68fc          5035.0      EUR   \n",
       "2  7001390046103-34e7a9d6f856402b8d7961cf73832057         18228.0      EUR   \n",
       "3  7001390118840-73b4f11ff5864a8b890056e6da492aca         14740.0      EUR   \n",
       "4  7001390140737-6707c68f51274785834f41893c2aa0d8         27445.0      EUR   \n",
       "\n",
       "   Amount (with decimal mark per currency exponent)  ...  \\\n",
       "0                                              40.0  ...   \n",
       "1                                             180.0  ...   \n",
       "2                                              25.0  ...   \n",
       "3                                             147.0  ...   \n",
       "4                                              10.0  ...   \n",
       "\n",
       "  Settlement Transaction Currency  ECI Preauthorization Captured  \\\n",
       "0                             NaN  7.0              NaN      NaN   \n",
       "1                             NaN  5.0              NaN      NaN   \n",
       "2                             NaN  2.0              NaN      NaN   \n",
       "3                             NaN  2.0              NaN      NaN   \n",
       "4                             NaN  2.0              NaN      NaN   \n",
       "\n",
       "               Transaction descriptor IBAN / Account No     Customer name  \\\n",
       "0     Viskikerho WhisKY ry stm0T5 FIN               NaN  Marko Stevanovic   \n",
       "1             AT Sinkkonen MCRmlQ FIN               NaN      Harri Mäkelä   \n",
       "2  Curly Horses Finland ry xv9Nvk FIN               NaN      Marcel Erkko   \n",
       "3          LifeInspiration 6CzDSk FIN               NaN       Riika Riika   \n",
       "4   Linnanmaen sirkuskoulu QZjBXR FIN               NaN   Ante Pettersson   \n",
       "\n",
       "   Funds status Date of funds status Account holder  \n",
       "0           NaN                  NaN            NaN  \n",
       "1           NaN                  NaN            NaN  \n",
       "2           NaN                  NaN            NaN  \n",
       "3           NaN                  NaN            NaN  \n",
       "4           NaN                  NaN            NaN  \n",
       "\n",
       "[5 rows x 42 columns]"
      ]
     },
     "execution_count": 2,
     "metadata": {},
     "output_type": "execute_result"
    }
   ],
   "source": [
    "Merchant = pd.read_csv('Holvi.csv')\n",
    "Merchant.head()"
   ]
  },
  {
   "cell_type": "code",
   "execution_count": 3,
   "id": "7ffff53c",
   "metadata": {},
   "outputs": [
    {
     "name": "stdout",
     "output_type": "stream",
     "text": [
      "<class 'pandas.core.frame.DataFrame'>\n",
      "RangeIndex: 2956 entries, 0 to 2955\n",
      "Data columns (total 42 columns):\n",
      " #   Column                                            Non-Null Count  Dtype  \n",
      "---  ------                                            --------------  -----  \n",
      " 0   Merchant                                          2956 non-null   object \n",
      " 1   Terminal                                          2956 non-null   object \n",
      " 2   Status                                            2956 non-null   object \n",
      " 3   Type                                              2956 non-null   object \n",
      " 4   Payment Type                                      0 non-null      float64\n",
      " 5   Bank Code                                         0 non-null      float64\n",
      " 6   Merchant Transaction id                           2955 non-null   object \n",
      " 7   Transaction id                                    2955 non-null   float64\n",
      " 8   Currency                                          2956 non-null   object \n",
      " 9   Amount (with decimal mark per currency exponent)  2956 non-null   float64\n",
      " 10  Card Holder                                       2956 non-null   object \n",
      " 11  Card Brand                                        2956 non-null   object \n",
      " 12  Card Number                                       2956 non-null   object \n",
      " 13  Country (Billing)                                 2953 non-null   object \n",
      " 14  ErrorClass                                        505 non-null    object \n",
      " 15  ErrorMessage                                      505 non-null    object \n",
      " 16  Auth Code                                         2448 non-null   object \n",
      " 17  RRN                                               2669 non-null   float64\n",
      " 18  Response Code                                     2671 non-null   object \n",
      " 19  CVV Result                                        2663 non-null   object \n",
      " 20  Unique ID                                         2956 non-null   object \n",
      " 21  ARN                                               2451 non-null   object \n",
      " 22  Customer email                                    2956 non-null   object \n",
      " 23  BIN country                                       2956 non-null   object \n",
      " 24  Card type                                         2836 non-null   object \n",
      " 25  Card subtype                                      2787 non-null   object \n",
      " 26  Fraud                                             0 non-null      float64\n",
      " 27  Descriptor                                        2956 non-null   object \n",
      " 28  Region class                                      2956 non-null   object \n",
      " 29  FX trading rate                                   0 non-null      float64\n",
      " 30  FX converted amount                               0 non-null      float64\n",
      " 31  FX tier ID                                        0 non-null      float64\n",
      " 32  Settlement Transaction Currency                   0 non-null      float64\n",
      " 33  ECI                                               2953 non-null   float64\n",
      " 34  Preauthorization                                  0 non-null      float64\n",
      " 35  Captured                                          0 non-null      float64\n",
      " 36  Transaction descriptor                            2953 non-null   object \n",
      " 37  IBAN / Account No                                 0 non-null      float64\n",
      " 38  Customer name                                     2953 non-null   object \n",
      " 39  Funds status                                      0 non-null      float64\n",
      " 40  Date of funds status                              0 non-null      float64\n",
      " 41  Account holder                                    0 non-null      float64\n",
      "dtypes: float64(17), object(25)\n",
      "memory usage: 970.1+ KB\n"
     ]
    }
   ],
   "source": [
    "Merchant.info()"
   ]
  },
  {
   "cell_type": "code",
   "execution_count": 4,
   "id": "a036b259",
   "metadata": {},
   "outputs": [
    {
     "data": {
      "text/html": [
       "<div>\n",
       "<style scoped>\n",
       "    .dataframe tbody tr th:only-of-type {\n",
       "        vertical-align: middle;\n",
       "    }\n",
       "\n",
       "    .dataframe tbody tr th {\n",
       "        vertical-align: top;\n",
       "    }\n",
       "\n",
       "    .dataframe thead th {\n",
       "        text-align: right;\n",
       "    }\n",
       "</style>\n",
       "<table border=\"1\" class=\"dataframe\">\n",
       "  <thead>\n",
       "    <tr style=\"text-align: right;\">\n",
       "      <th></th>\n",
       "      <th>Payment Type</th>\n",
       "      <th>Bank Code</th>\n",
       "      <th>Transaction id</th>\n",
       "      <th>Amount (with decimal mark per currency exponent)</th>\n",
       "      <th>RRN</th>\n",
       "      <th>Fraud</th>\n",
       "      <th>FX trading rate</th>\n",
       "      <th>FX converted amount</th>\n",
       "      <th>FX tier ID</th>\n",
       "      <th>Settlement Transaction Currency</th>\n",
       "      <th>ECI</th>\n",
       "      <th>Preauthorization</th>\n",
       "      <th>Captured</th>\n",
       "      <th>IBAN / Account No</th>\n",
       "      <th>Funds status</th>\n",
       "      <th>Date of funds status</th>\n",
       "      <th>Account holder</th>\n",
       "    </tr>\n",
       "  </thead>\n",
       "  <tbody>\n",
       "    <tr>\n",
       "      <th>count</th>\n",
       "      <td>0.0</td>\n",
       "      <td>0.0</td>\n",
       "      <td>2955.000000</td>\n",
       "      <td>2956.000000</td>\n",
       "      <td>2.669000e+03</td>\n",
       "      <td>0.0</td>\n",
       "      <td>0.0</td>\n",
       "      <td>0.0</td>\n",
       "      <td>0.0</td>\n",
       "      <td>0.0</td>\n",
       "      <td>2953.000000</td>\n",
       "      <td>0.0</td>\n",
       "      <td>0.0</td>\n",
       "      <td>0.0</td>\n",
       "      <td>0.0</td>\n",
       "      <td>0.0</td>\n",
       "      <td>0.0</td>\n",
       "    </tr>\n",
       "    <tr>\n",
       "      <th>mean</th>\n",
       "      <td>NaN</td>\n",
       "      <td>NaN</td>\n",
       "      <td>16474.936717</td>\n",
       "      <td>106.715176</td>\n",
       "      <td>3.106053e+11</td>\n",
       "      <td>NaN</td>\n",
       "      <td>NaN</td>\n",
       "      <td>NaN</td>\n",
       "      <td>NaN</td>\n",
       "      <td>NaN</td>\n",
       "      <td>3.534033</td>\n",
       "      <td>NaN</td>\n",
       "      <td>NaN</td>\n",
       "      <td>NaN</td>\n",
       "      <td>NaN</td>\n",
       "      <td>NaN</td>\n",
       "      <td>NaN</td>\n",
       "    </tr>\n",
       "    <tr>\n",
       "      <th>std</th>\n",
       "      <td>NaN</td>\n",
       "      <td>NaN</td>\n",
       "      <td>8647.493440</td>\n",
       "      <td>175.178592</td>\n",
       "      <td>8.417258e+08</td>\n",
       "      <td>NaN</td>\n",
       "      <td>NaN</td>\n",
       "      <td>NaN</td>\n",
       "      <td>NaN</td>\n",
       "      <td>NaN</td>\n",
       "      <td>1.811663</td>\n",
       "      <td>NaN</td>\n",
       "      <td>NaN</td>\n",
       "      <td>NaN</td>\n",
       "      <td>NaN</td>\n",
       "      <td>NaN</td>\n",
       "      <td>NaN</td>\n",
       "    </tr>\n",
       "    <tr>\n",
       "      <th>min</th>\n",
       "      <td>NaN</td>\n",
       "      <td>NaN</td>\n",
       "      <td>548.000000</td>\n",
       "      <td>1.000000</td>\n",
       "      <td>3.091040e+11</td>\n",
       "      <td>NaN</td>\n",
       "      <td>NaN</td>\n",
       "      <td>NaN</td>\n",
       "      <td>NaN</td>\n",
       "      <td>NaN</td>\n",
       "      <td>0.000000</td>\n",
       "      <td>NaN</td>\n",
       "      <td>NaN</td>\n",
       "      <td>NaN</td>\n",
       "      <td>NaN</td>\n",
       "      <td>NaN</td>\n",
       "      <td>NaN</td>\n",
       "    </tr>\n",
       "    <tr>\n",
       "      <th>25%</th>\n",
       "      <td>NaN</td>\n",
       "      <td>NaN</td>\n",
       "      <td>8654.000000</td>\n",
       "      <td>20.000000</td>\n",
       "      <td>3.099160e+11</td>\n",
       "      <td>NaN</td>\n",
       "      <td>NaN</td>\n",
       "      <td>NaN</td>\n",
       "      <td>NaN</td>\n",
       "      <td>NaN</td>\n",
       "      <td>2.000000</td>\n",
       "      <td>NaN</td>\n",
       "      <td>NaN</td>\n",
       "      <td>NaN</td>\n",
       "      <td>NaN</td>\n",
       "      <td>NaN</td>\n",
       "      <td>NaN</td>\n",
       "    </tr>\n",
       "    <tr>\n",
       "      <th>50%</th>\n",
       "      <td>NaN</td>\n",
       "      <td>NaN</td>\n",
       "      <td>18310.000000</td>\n",
       "      <td>43.600000</td>\n",
       "      <td>3.106200e+11</td>\n",
       "      <td>NaN</td>\n",
       "      <td>NaN</td>\n",
       "      <td>NaN</td>\n",
       "      <td>NaN</td>\n",
       "      <td>NaN</td>\n",
       "      <td>5.000000</td>\n",
       "      <td>NaN</td>\n",
       "      <td>NaN</td>\n",
       "      <td>NaN</td>\n",
       "      <td>NaN</td>\n",
       "      <td>NaN</td>\n",
       "      <td>NaN</td>\n",
       "    </tr>\n",
       "    <tr>\n",
       "      <th>75%</th>\n",
       "      <td>NaN</td>\n",
       "      <td>NaN</td>\n",
       "      <td>27482.000000</td>\n",
       "      <td>100.000000</td>\n",
       "      <td>3.113150e+11</td>\n",
       "      <td>NaN</td>\n",
       "      <td>NaN</td>\n",
       "      <td>NaN</td>\n",
       "      <td>NaN</td>\n",
       "      <td>NaN</td>\n",
       "      <td>5.000000</td>\n",
       "      <td>NaN</td>\n",
       "      <td>NaN</td>\n",
       "      <td>NaN</td>\n",
       "      <td>NaN</td>\n",
       "      <td>NaN</td>\n",
       "      <td>NaN</td>\n",
       "    </tr>\n",
       "    <tr>\n",
       "      <th>max</th>\n",
       "      <td>NaN</td>\n",
       "      <td>NaN</td>\n",
       "      <td>28959.000000</td>\n",
       "      <td>1500.000000</td>\n",
       "      <td>3.120220e+11</td>\n",
       "      <td>NaN</td>\n",
       "      <td>NaN</td>\n",
       "      <td>NaN</td>\n",
       "      <td>NaN</td>\n",
       "      <td>NaN</td>\n",
       "      <td>7.000000</td>\n",
       "      <td>NaN</td>\n",
       "      <td>NaN</td>\n",
       "      <td>NaN</td>\n",
       "      <td>NaN</td>\n",
       "      <td>NaN</td>\n",
       "      <td>NaN</td>\n",
       "    </tr>\n",
       "  </tbody>\n",
       "</table>\n",
       "</div>"
      ],
      "text/plain": [
       "       Payment Type  Bank Code  Transaction id  \\\n",
       "count           0.0        0.0     2955.000000   \n",
       "mean            NaN        NaN    16474.936717   \n",
       "std             NaN        NaN     8647.493440   \n",
       "min             NaN        NaN      548.000000   \n",
       "25%             NaN        NaN     8654.000000   \n",
       "50%             NaN        NaN    18310.000000   \n",
       "75%             NaN        NaN    27482.000000   \n",
       "max             NaN        NaN    28959.000000   \n",
       "\n",
       "       Amount (with decimal mark per currency exponent)           RRN  Fraud  \\\n",
       "count                                       2956.000000  2.669000e+03    0.0   \n",
       "mean                                         106.715176  3.106053e+11    NaN   \n",
       "std                                          175.178592  8.417258e+08    NaN   \n",
       "min                                            1.000000  3.091040e+11    NaN   \n",
       "25%                                           20.000000  3.099160e+11    NaN   \n",
       "50%                                           43.600000  3.106200e+11    NaN   \n",
       "75%                                          100.000000  3.113150e+11    NaN   \n",
       "max                                         1500.000000  3.120220e+11    NaN   \n",
       "\n",
       "       FX trading rate  FX converted amount  FX tier ID  \\\n",
       "count              0.0                  0.0         0.0   \n",
       "mean               NaN                  NaN         NaN   \n",
       "std                NaN                  NaN         NaN   \n",
       "min                NaN                  NaN         NaN   \n",
       "25%                NaN                  NaN         NaN   \n",
       "50%                NaN                  NaN         NaN   \n",
       "75%                NaN                  NaN         NaN   \n",
       "max                NaN                  NaN         NaN   \n",
       "\n",
       "       Settlement Transaction Currency          ECI  Preauthorization  \\\n",
       "count                              0.0  2953.000000               0.0   \n",
       "mean                               NaN     3.534033               NaN   \n",
       "std                                NaN     1.811663               NaN   \n",
       "min                                NaN     0.000000               NaN   \n",
       "25%                                NaN     2.000000               NaN   \n",
       "50%                                NaN     5.000000               NaN   \n",
       "75%                                NaN     5.000000               NaN   \n",
       "max                                NaN     7.000000               NaN   \n",
       "\n",
       "       Captured  IBAN / Account No  Funds status  Date of funds status  \\\n",
       "count       0.0                0.0           0.0                   0.0   \n",
       "mean        NaN                NaN           NaN                   NaN   \n",
       "std         NaN                NaN           NaN                   NaN   \n",
       "min         NaN                NaN           NaN                   NaN   \n",
       "25%         NaN                NaN           NaN                   NaN   \n",
       "50%         NaN                NaN           NaN                   NaN   \n",
       "75%         NaN                NaN           NaN                   NaN   \n",
       "max         NaN                NaN           NaN                   NaN   \n",
       "\n",
       "       Account holder  \n",
       "count             0.0  \n",
       "mean              NaN  \n",
       "std               NaN  \n",
       "min               NaN  \n",
       "25%               NaN  \n",
       "50%               NaN  \n",
       "75%               NaN  \n",
       "max               NaN  "
      ]
     },
     "execution_count": 4,
     "metadata": {},
     "output_type": "execute_result"
    }
   ],
   "source": [
    "Merchant.describe()"
   ]
  },
  {
   "cell_type": "code",
   "execution_count": 6,
   "id": "51f47b00",
   "metadata": {},
   "outputs": [
    {
     "data": {
      "text/plain": [
       "<Axes: ylabel='Frequency'>"
      ]
     },
     "execution_count": 6,
     "metadata": {},
     "output_type": "execute_result"
    },
    {
     "data": {
      "image/png": "[encoded data removed]",
      "text/plain": [
       "<Figure size 640x480 with 1 Axes>"
      ]
     },
     "metadata": {},
     "output_type": "display_data"
    }
   ],
   "source": [
    "# Amount.\n",
    "\n",
    "Merchant['Amount (with decimal mark per currency exponent)'].plot.hist(bins=30)"
   ]
  },
  {
   "cell_type": "code",
   "execution_count": 7,
   "id": "c1e0bdb9",
   "metadata": {},
   "outputs": [
    {
     "data": {
      "text/plain": [
       "<seaborn.axisgrid.JointGrid at 0x1dd816b2d90>"
      ]
     },
     "execution_count": 7,
     "metadata": {},
     "output_type": "execute_result"
    },
    {
     "data": {
      "image/png": "[encoded data removed]",
      "text/plain": [
       "<Figure size 600x600 with 3 Axes>"
      ]
     },
     "metadata": {},
     "output_type": "display_data"
    }
   ],
   "source": [
    "# Amount vs Status.\n",
    "\n",
    "sns.jointplot(x='Amount (with decimal mark per currency exponent)', y='Status', data=Merchant)"
   ]
  },
  {
   "cell_type": "code",
   "execution_count": 16,
   "id": "5af803c1",
   "metadata": {},
   "outputs": [],
   "source": [
    "# Heatmap.\n",
    "\n",
    "New = Merchant.drop(columns='Terminal')\n",
    "New\n",
    "New1 = New.drop(columns = 'Merchant')\n",
    "New1\n",
    "sns.heatmap(New1.corr())"
   ]
  },
  {
   "cell_type": "code",
   "execution_count": 18,
   "id": "bba2354b",
   "metadata": {},
   "outputs": [],
   "source": [
    "sns.pairplot(Merchant, hue='Status')"
   ]
  },
  {
   "cell_type": "code",
   "execution_count": 19,
   "id": "710ff790",
   "metadata": {},
   "outputs": [
    {
     "data": {
      "text/plain": [
       "<Axes: xlabel='Status', ylabel='count'>"
      ]
     },
     "execution_count": 19,
     "metadata": {},
     "output_type": "execute_result"
    },
    {
     "data": {
      "image/png": "[encoded data removed]",
      "text/plain": [
       "<Figure size 1200x500 with 1 Axes>"
      ]
     },
     "metadata": {},
     "output_type": "display_data"
    }
   ],
   "source": [
    "plt.figure(figsize=(12,5))\n",
    "sns.countplot(x='Status', hue='Card type', data=New1)"
   ]
  },
  {
   "cell_type": "code",
   "execution_count": 20,
   "id": "db079999",
   "metadata": {},
   "outputs": [
    {
     "data": {
      "text/plain": [
       "<Axes: xlabel='Card type', ylabel='count'>"
      ]
     },
     "execution_count": 20,
     "metadata": {},
     "output_type": "execute_result"
    },
    {
     "data": {
      "image/png": "[encoded data removed]",
      "text/plain": [
       "<Figure size 1200x500 with 1 Axes>"
      ]
     },
     "metadata": {},
     "output_type": "display_data"
    }
   ],
   "source": [
    "plt.figure(figsize=(12,5))\n",
    "sns.countplot(x='Card type', hue='Status', data=New1)"
   ]
  },
  {
   "cell_type": "code",
   "execution_count": 22,
   "id": "2a2b1e79",
   "metadata": {},
   "outputs": [
    {
     "data": {
      "text/plain": [
       "<Axes: xlabel='Card type', ylabel='count'>"
      ]
     },
     "execution_count": 22,
     "metadata": {},
     "output_type": "execute_result"
    },
    {
     "data": {
      "image/png": "[encoded data removed]",
      "text/plain": [
       "<Figure size 1200x500 with 1 Axes>"
      ]
     },
     "metadata": {},
     "output_type": "display_data"
    }
   ],
   "source": [
    "plt.figure(figsize=(12,5))\n",
    "sns.countplot(x='Card type', data=New1)"
   ]
  },
  {
   "cell_type": "code",
   "execution_count": 23,
   "id": "792f079a",
   "metadata": {},
   "outputs": [
    {
     "data": {
      "text/plain": [
       "<Axes: xlabel='Status', ylabel='count'>"
      ]
     },
     "execution_count": 23,
     "metadata": {},
     "output_type": "execute_result"
    },
    {
     "data": {
      "image/png": "[encoded data removed]",
      "text/plain": [
       "<Figure size 1200x500 with 1 Axes>"
      ]
     },
     "metadata": {},
     "output_type": "display_data"
    }
   ],
   "source": [
    "plt.figure(figsize=(12,5))\n",
    "sns.countplot(x='Status', data=New1)"
   ]
  },
  {
   "cell_type": "code",
   "execution_count": null,
   "id": "0e4b67fd",
   "metadata": {},
   "outputs": [],
   "source": []
  },
  {
   "cell_type": "code",
   "execution_count": null,
   "id": "c3d99286",
   "metadata": {},
   "outputs": [],
   "source": []
  }
 ],
 "metadata": {
  "kernelspec": {
   "display_name": "Python 3 (ipykernel)",
   "language": "python",
   "name": "python3"
  },
  "language_info": {
   "codemirror_mode": {
    "name": "ipython",
    "version": 3
   },
   "file_extension": ".py",
   "mimetype": "text/x-python",
   "name": "python",
   "nbconvert_exporter": "python",
   "pygments_lexer": "ipython3",
   "version": "3.11.5"
  }
 },
 "nbformat": 4,
 "nbformat_minor": 5
}
